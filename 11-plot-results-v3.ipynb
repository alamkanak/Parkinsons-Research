{
 "cells": [
  {
   "cell_type": "markdown",
   "metadata": {},
   "source": [
    "# Import"
   ]
  },
  {
   "cell_type": "code",
   "execution_count": 1,
   "metadata": {
    "collapsed": true
   },
   "outputs": [],
   "source": [
    "%matplotlib inline\n",
    "import glob\n",
    "import re\n",
    "import pandas as pd\n",
    "from IPython.display import display, Markdown\n",
    "import matplotlib.pyplot as plt"
   ]
  },
  {
   "cell_type": "markdown",
   "metadata": {},
   "source": [
    "# Load parameters"
   ]
  },
  {
   "cell_type": "code",
   "execution_count": 3,
   "metadata": {},
   "outputs": [
    {
     "name": "stdout",
     "output_type": "stream",
     "text": [
      "['Adam', '0.0001', '0.0001', '4', '8', '16', '0', '2018-03-03-04-10-51\\\\']\n"
     ]
    }
   ],
   "source": [
    "model_path = 'results/results-gridsearch-03/model'\n",
    "param_files = sorted(glob.glob(model_path + '/*/'))\n",
    "params = []\n",
    "for file_name in param_files:\n",
    "    epoch_file_name = file_name + \"epochs.csv\"\n",
    "    param_file_name = file_name + \"params.txt\"\n",
    "    file = open(param_file_name, 'r')\n",
    "    param = file.read()\n",
    "    param = re.sub('=', ': ', param)\n",
    "    param = re.sub('\\)', '', param)\n",
    "    param = re.sub('decay=', 'decay: ', param)\n",
    "    param = re.sub(',.*?: ', '|', param)\n",
    "    param = re.sub('optimizer: ', '', param)\n",
    "    param = re.sub('\\(lr=', '|', param)\n",
    "    param = re.sub('\\)\\|', '|', param)\n",
    "    param = param.split(\"|\")\n",
    "    param.append(file_name.replace(model_path + '\\\\', ''))\n",
    "    param.append(pd.read_csv(epoch_file_name))\n",
    "    params.append(param)\n",
    "    file.close()\n",
    "print(params[0][0:8])"
   ]
  },
  {
   "cell_type": "markdown",
   "metadata": {},
   "source": [
    "# Display some data"
   ]
  },
  {
   "cell_type": "code",
   "execution_count": 4,
   "metadata": {},
   "outputs": [
    {
     "data": {
      "text/html": [
       "<div>\n",
       "<style scoped>\n",
       "    .dataframe tbody tr th:only-of-type {\n",
       "        vertical-align: middle;\n",
       "    }\n",
       "\n",
       "    .dataframe tbody tr th {\n",
       "        vertical-align: top;\n",
       "    }\n",
       "\n",
       "    .dataframe thead th {\n",
       "        text-align: right;\n",
       "    }\n",
       "</style>\n",
       "<table border=\"1\" class=\"dataframe\">\n",
       "  <thead>\n",
       "    <tr style=\"text-align: right;\">\n",
       "      <th></th>\n",
       "      <th>epoch</th>\n",
       "      <th>acc</th>\n",
       "      <th>loss</th>\n",
       "      <th>val_acc</th>\n",
       "      <th>val_loss</th>\n",
       "    </tr>\n",
       "  </thead>\n",
       "  <tbody>\n",
       "    <tr>\n",
       "      <th>0</th>\n",
       "      <td>0</td>\n",
       "      <td>0.551</td>\n",
       "      <td>0.692015</td>\n",
       "      <td>0.557692</td>\n",
       "      <td>0.693032</td>\n",
       "    </tr>\n",
       "    <tr>\n",
       "      <th>1</th>\n",
       "      <td>1</td>\n",
       "      <td>0.558</td>\n",
       "      <td>0.691811</td>\n",
       "      <td>0.538462</td>\n",
       "      <td>0.691470</td>\n",
       "    </tr>\n",
       "    <tr>\n",
       "      <th>2</th>\n",
       "      <td>2</td>\n",
       "      <td>0.567</td>\n",
       "      <td>0.692530</td>\n",
       "      <td>0.576923</td>\n",
       "      <td>0.690229</td>\n",
       "    </tr>\n",
       "    <tr>\n",
       "      <th>3</th>\n",
       "      <td>3</td>\n",
       "      <td>0.544</td>\n",
       "      <td>0.691897</td>\n",
       "      <td>0.591346</td>\n",
       "      <td>0.689011</td>\n",
       "    </tr>\n",
       "    <tr>\n",
       "      <th>4</th>\n",
       "      <td>4</td>\n",
       "      <td>0.556</td>\n",
       "      <td>0.690359</td>\n",
       "      <td>0.605769</td>\n",
       "      <td>0.687980</td>\n",
       "    </tr>\n",
       "  </tbody>\n",
       "</table>\n",
       "</div>"
      ],
      "text/plain": [
       "   epoch    acc      loss   val_acc  val_loss\n",
       "0      0  0.551  0.692015  0.557692  0.693032\n",
       "1      1  0.558  0.691811  0.538462  0.691470\n",
       "2      2  0.567  0.692530  0.576923  0.690229\n",
       "3      3  0.544  0.691897  0.591346  0.689011\n",
       "4      4  0.556  0.690359  0.605769  0.687980"
      ]
     },
     "execution_count": 4,
     "metadata": {},
     "output_type": "execute_result"
    }
   ],
   "source": [
    "params[0][8].head()"
   ]
  },
  {
   "cell_type": "markdown",
   "metadata": {},
   "source": [
    "# Plot epochs for each item in params"
   ]
  },
  {
   "cell_type": "code",
   "execution_count": null,
   "metadata": {
    "collapsed": true,
    "scrolled": true
   },
   "outputs": [],
   "source": [
    "i = 1\n",
    "for param in params:\n",
    "    \n",
    "    # Display a horizontal line.\n",
    "    display(Markdown('***'))\n",
    "    \n",
    "    # Prepare a dataframe and render it in a nicely formatted table.\n",
    "    param_array = {\n",
    "        'serial': [str(i)],\n",
    "        'optimizer': [param[0]],\n",
    "        'learning_rate': [param[1]],\n",
    "        'decay': [param[2]],\n",
    "        'layer_1': [param[3]],\n",
    "        'layer_2': [param[4]],\n",
    "        'layer_3': [param[5]],\n",
    "        'layer_4': [param[6]],\n",
    "        'name': [param[7]]\n",
    "    }\n",
    "    df = pd.DataFrame(param_array, columns=[\n",
    "        'serial',\n",
    "        'optimizer', \n",
    "        'learning_rate', \n",
    "        'decay',\n",
    "        'layer_1', \n",
    "        'layer_2', \n",
    "        'layer_3', \n",
    "        'layer_4', \n",
    "        'name'])\n",
    "    display(df.head())\n",
    "\n",
    "    # Plot all the epochs.\n",
    "    plt.figure(1, figsize=(18,3))\n",
    "    plt.subplot(1,4,1)\n",
    "    param[8].plot(x='epoch', y='acc', ax=plt.gca())\n",
    "    plt.grid(True)\n",
    "    plt.subplot(1,4,2)\n",
    "    param[8].plot(x='epoch', y='val_acc', ax=plt.gca())\n",
    "    plt.grid(True)\n",
    "    plt.subplot(1,4,3)\n",
    "    param[8].plot(x='epoch', y='loss', ax=plt.gca())\n",
    "    plt.grid(True)\n",
    "    plt.subplot(1,4,4)\n",
    "    param[8].plot(x='epoch', y='val_loss', ax=plt.gca())\n",
    "    plt.grid(True)\n",
    "    plt.show()\n",
    "    i = i+1"
   ]
  },
  {
   "cell_type": "code",
   "execution_count": null,
   "metadata": {
    "collapsed": true
   },
   "outputs": [],
   "source": []
  }
 ],
 "metadata": {
  "kernelspec": {
   "display_name": "Python [default]",
   "language": "python",
   "name": "python3"
  },
  "language_info": {
   "codemirror_mode": {
    "name": "ipython",
    "version": 3
   },
   "file_extension": ".py",
   "mimetype": "text/x-python",
   "name": "python",
   "nbconvert_exporter": "python",
   "pygments_lexer": "ipython3",
   "version": "3.5.4"
  }
 },
 "nbformat": 4,
 "nbformat_minor": 2
}
