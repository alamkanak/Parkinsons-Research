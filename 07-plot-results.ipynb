{
 "cells": [
  {
   "cell_type": "markdown",
   "metadata": {},
   "source": [
    "# Import"
   ]
  },
  {
   "cell_type": "code",
   "execution_count": null,
   "metadata": {},
   "outputs": [],
   "source": [
    "%matplotlib inline\n",
    "import glob\n",
    "import re\n",
    "import pandas as pd\n",
    "from IPython.display import display, Markdown\n",
    "import matplotlib.pyplot as plt"
   ]
  },
  {
   "cell_type": "markdown",
   "metadata": {},
   "source": [
    "# Load parameters"
   ]
  },
  {
   "cell_type": "code",
   "execution_count": null,
   "metadata": {},
   "outputs": [],
   "source": [
    "param_files = sorted(glob.glob('results/results-gridsearch/model2/*/'))\n",
    "params = []\n",
    "for file_name in param_files:\n",
    "    epoch_file_name = file_name + \"epochs.csv\"\n",
    "    param_file_name = file_name + \"params.txt\"\n",
    "    file = open(param_file_name, 'r')\n",
    "    param = file.read()\n",
    "    param = re.sub(',.*?: ', '|', param)\n",
    "    param = re.sub('optimizer: ', '', param)\n",
    "    param = re.sub('\\(lr=', '|', param)\n",
    "    param = re.sub('\\)\\|', '|', param)\n",
    "    param = param.split(\"|\")\n",
    "    param.append(file_name.replace('results/results-gridsearch/model2\\\\', ''))\n",
    "    param.append(pd.read_csv(epoch_file_name))\n",
    "    params.append(param)\n",
    "    file.close()"
   ]
  },
  {
   "cell_type": "markdown",
   "metadata": {},
   "source": [
    "# Display some data"
   ]
  },
  {
   "cell_type": "code",
   "execution_count": null,
   "metadata": {},
   "outputs": [],
   "source": [
    "params[0][7].head()"
   ]
  },
  {
   "cell_type": "markdown",
   "metadata": {},
   "source": [
    "# Plot epochs for each item in params"
   ]
  },
  {
   "cell_type": "code",
   "execution_count": null,
   "metadata": {
    "scrolled": false
   },
   "outputs": [],
   "source": [
    "i = 0\n",
    "for param in params:\n",
    "    \n",
    "    # Display a horizontal line.\n",
    "    display(Markdown('***'))\n",
    "    \n",
    "    # Prepare a dataframe and render it in a nicely formatted table.\n",
    "    param_array = {\n",
    "        'serial': [str(i)],\n",
    "        'optimizer': [param[0]],\n",
    "        'learning_rate': [param[1]],\n",
    "        'layer_1': [param[2]],\n",
    "        'layer_2': [param[3]],\n",
    "        'layer_3': [param[4]],\n",
    "        'validation_split': [param[5]],\n",
    "        'name': [param[6]]\n",
    "    }\n",
    "    df = pd.DataFrame(param_array, columns=[\n",
    "        'serial',\n",
    "        'optimizer', \n",
    "        'learning_rate', \n",
    "        'layer_1', \n",
    "        'layer_2', \n",
    "        'layer_3', \n",
    "        'validation_split', \n",
    "        'name'])\n",
    "    display(df.head())\n",
    "\n",
    "    # Plot all the epochs.\n",
    "    plt.figure(1, figsize=(18,3))\n",
    "    plt.subplot(1,4,1)\n",
    "    param[7].plot(x='epoch', y='acc', ax=plt.gca())\n",
    "    plt.grid(True)\n",
    "    plt.subplot(1,4,2)\n",
    "    param[7].plot(x='epoch', y='val_acc', ax=plt.gca())\n",
    "    plt.grid(True)\n",
    "    plt.subplot(1,4,3)\n",
    "    param[7].plot(x='epoch', y='loss', ax=plt.gca())\n",
    "    plt.grid(True)\n",
    "    plt.subplot(1,4,4)\n",
    "    param[7].plot(x='epoch', y='val_loss', ax=plt.gca())\n",
    "    plt.grid(True)\n",
    "    plt.show()\n",
    "    i = i+1"
   ]
  },
  {
   "cell_type": "code",
   "execution_count": null,
   "metadata": {},
   "outputs": [],
   "source": []
  }
 ],
 "metadata": {
  "kernelspec": {
   "display_name": "Python [conda env:tensorflow]",
   "language": "python",
   "name": "conda-env-tensorflow-py"
  },
  "language_info": {
   "codemirror_mode": {
    "name": "ipython",
    "version": 3
   },
   "file_extension": ".py",
   "mimetype": "text/x-python",
   "name": "python",
   "nbconvert_exporter": "python",
   "pygments_lexer": "ipython3",
   "version": "3.5.4"
  }
 },
 "nbformat": 4,
 "nbformat_minor": 2
}
