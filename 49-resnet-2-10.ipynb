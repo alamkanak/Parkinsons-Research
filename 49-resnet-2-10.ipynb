{
 "cells": [
  {
   "cell_type": "markdown",
   "metadata": {},
   "source": [
    "# Import libraries"
   ]
  },
  {
   "cell_type": "code",
   "execution_count": 1,
   "metadata": {},
   "outputs": [
    {
     "name": "stderr",
     "output_type": "stream",
     "text": [
      "Using TensorFlow backend.\n"
     ]
    }
   ],
   "source": [
    "import os\n",
    "os.environ[\"KERAS_BACKEND\"] = \"tensorflow\"\n",
    "import pandas as pd\n",
    "import numpy as np\n",
    "from keras.models import Sequential, Model, load_model\n",
    "from keras.layers import Dense, Activation, BatchNormalization, Dropout, Input, Concatenate\n",
    "from IPython.display import SVG\n",
    "from keras.utils.vis_utils import model_to_dot\n",
    "import keras\n",
    "from datetime import datetime\n",
    "from sklearn import preprocessing\n",
    "from keras.callbacks import ModelCheckpoint\n",
    "from keras.utils import np_utils\n",
    "from keras.wrappers.scikit_learn import KerasClassifier\n",
    "from keras.utils import plot_model\n",
    "from sklearn.model_selection import GridSearchCV\n",
    "from sklearn.utils import shuffle\n",
    "import pickle\n",
    "import glob\n",
    "from keras.utils import to_categorical\n",
    "from keras import regularizers"
   ]
  },
  {
   "cell_type": "markdown",
   "metadata": {},
   "source": [
    "# Load processed dataset\n",
    "The data we load here are already shuffled and normalized."
   ]
  },
  {
   "cell_type": "code",
   "execution_count": 2,
   "metadata": {},
   "outputs": [
    {
     "name": "stdout",
     "output_type": "stream",
     "text": [
      "x_train: (1087, 26)\n",
      "y_train: (1087, 2)\n",
      "x_test: (121, 26)\n",
      "y_test: (121, 2)\n"
     ]
    }
   ],
   "source": [
    "data_directory = 'dataset/4. normalized-50/'\n",
    "data_directory_20 = 'dataset/3. Normalized/'\n",
    "data_directory_30 = 'dataset/5. normalized-30/'\n",
    "data_directory_10 = 'dataset/6. normalized-10/'\n",
    "x_train = pickle.load(open(data_directory + \"x_train.p\", \"rb\"))\n",
    "y_train = pickle.load(open(data_directory + \"y_train.p\", \"rb\"))\n",
    "x_test = pickle.load(open(data_directory + \"x_test.p\", \"rb\"))\n",
    "y_test = pickle.load(open(data_directory + \"y_test.p\", \"rb\"))\n",
    "\n",
    "x_train_20 = pickle.load(open(data_directory_20 + \"x_train.p\", \"rb\"))\n",
    "y_train_20 = pickle.load(open(data_directory_20 + \"y_train.p\", \"rb\"))\n",
    "x_test_20 = pickle.load(open(data_directory_20 + \"x_test.p\", \"rb\"))\n",
    "y_test_20 = pickle.load(open(data_directory_20 + \"y_test.p\", \"rb\"))\n",
    "\n",
    "x_train_30 = pickle.load(open(data_directory_30 + \"x_train.p\", \"rb\"))\n",
    "y_train_30 = pickle.load(open(data_directory_30 + \"y_train.p\", \"rb\"))\n",
    "x_test_30 = pickle.load(open(data_directory_30 + \"x_test.p\", \"rb\"))\n",
    "y_test_30 = pickle.load(open(data_directory_30 + \"y_test.p\", \"rb\"))\n",
    "\n",
    "x_train_10 = pickle.load(open(data_directory_10 + \"x_train.p\", \"rb\"))\n",
    "y_train_10 = pickle.load(open(data_directory_10 + \"y_train.p\", \"rb\"))\n",
    "x_test_10 = pickle.load(open(data_directory_10 + \"x_test.p\", \"rb\"))\n",
    "y_test_10 = pickle.load(open(data_directory_10 + \"y_test.p\", \"rb\"))\n",
    "\n",
    "print('x_train: ' + str(x_train_10.shape))\n",
    "print('y_train: ' + str(y_train_10.shape))\n",
    "print('x_test: ' + str(x_test_10.shape))\n",
    "print('y_test: ' + str(y_test_10.shape))"
   ]
  },
  {
   "cell_type": "markdown",
   "metadata": {},
   "source": [
    "# Load auto encoders"
   ]
  },
  {
   "cell_type": "code",
   "execution_count": 3,
   "metadata": {},
   "outputs": [
    {
     "name": "stdout",
     "output_type": "stream",
     "text": [
      "_________________________________________________________________\n",
      "Layer (type)                 Output Shape              Param #   \n",
      "=================================================================\n",
      "input_1 (InputLayer)         (None, 26)                0         \n",
      "_________________________________________________________________\n",
      "dense_1 (Dense)              (None, 10)                270       \n",
      "_________________________________________________________________\n",
      "dropout_1 (Dropout)          (None, 10)                0         \n",
      "_________________________________________________________________\n",
      "dense_2 (Dense)              (None, 26)                286       \n",
      "=================================================================\n",
      "Total params: 556\n",
      "Trainable params: 556\n",
      "Non-trainable params: 0\n",
      "_________________________________________________________________\n",
      "_________________________________________________________________\n",
      "Layer (type)                 Output Shape              Param #   \n",
      "=================================================================\n",
      "input_2 (InputLayer)         (None, 10)                0         \n",
      "_________________________________________________________________\n",
      "dense_2 (Dense)              (None, 8)                 88        \n",
      "_________________________________________________________________\n",
      "dropout_1 (Dropout)          (None, 8)                 0         \n",
      "_________________________________________________________________\n",
      "dense_3 (Dense)              (None, 10)                90        \n",
      "=================================================================\n",
      "Total params: 178\n",
      "Trainable params: 178\n",
      "Non-trainable params: 0\n",
      "_________________________________________________________________\n"
     ]
    }
   ],
   "source": [
    "autoencoder_1_path = 'results/46-autoencoder-1-10-01/model/2018-03-11-18-14-44/weights.hdf5'\n",
    "autoencoder_2_path = 'results/47-autoencoder-2-10-01/model/2018-03-11-20-18-49/weights.hdf5'\n",
    "weights_1 = load_model(autoencoder_1_path)\n",
    "weights_1.summary()\n",
    "weights_2 = load_model(autoencoder_2_path)\n",
    "weights_2.summary()"
   ]
  },
  {
   "cell_type": "code",
   "execution_count": 4,
   "metadata": {},
   "outputs": [
    {
     "name": "stdout",
     "output_type": "stream",
     "text": [
      "(1087, 26)\n",
      "(2174, 26)\n",
      "(2174, 2)\n"
     ]
    }
   ],
   "source": [
    "x_train_ae = weights_1.predict(x_train_10)\n",
    "print(x_train_ae.shape)\n",
    "x_train_10 = np.vstack([x_train_10, x_train_ae])\n",
    "print(x_train_10.shape)\n",
    "y_train_10 = np.vstack([y_train_10, y_train_10])\n",
    "print(y_train_10.shape)"
   ]
  },
  {
   "cell_type": "markdown",
   "metadata": {},
   "source": [
    "# Set up constants for weight transfer"
   ]
  },
  {
   "cell_type": "code",
   "execution_count": 5,
   "metadata": {},
   "outputs": [],
   "source": [
    "autoencoder_1_layer_units = 10\n",
    "autoencoder_1_layer_name = 'dense_1'\n",
    "autoencoder_1_layer_dropout = 0\n",
    "\n",
    "autoencoder_2_layer_units = 8\n",
    "autoencoder_2_layer_name = 'dense_2'\n",
    "autoencoder_2_layer_dropout = 0"
   ]
  },
  {
   "cell_type": "markdown",
   "metadata": {},
   "source": [
    "# Tubable parameters"
   ]
  },
  {
   "cell_type": "code",
   "execution_count": 6,
   "metadata": {},
   "outputs": [],
   "source": [
    "epochs = 100000\n",
    "batch_size = 20\n",
    "learning_rate = 0.00005\n",
    "decay = 0.00001\n",
    "loss = keras.losses.categorical_crossentropy"
   ]
  },
  {
   "cell_type": "markdown",
   "metadata": {},
   "source": [
    "# Model for classification"
   ]
  },
  {
   "cell_type": "code",
   "execution_count": 7,
   "metadata": {},
   "outputs": [],
   "source": [
    "date = datetime.now().strftime(\"%Y-%m-%d-%H-%M-%S\")\n",
    "root_directory = 'results/48-resnet-2-10-01/'\n",
    "model_directory = root_directory + \"model/\"\n",
    "tensorboard_directory = root_directory + \"tensorboard/\"\n",
    "\n",
    "def create_model(layers, dropout, test_size, regularization):\n",
    "    global date\n",
    "    global autoencoder_path\n",
    "    x = Input(shape=(x_train.shape[1],))\n",
    "    y = Dense(units = autoencoder_1_layer_units, activation='relu')(x)\n",
    "    y = Dropout(autoencoder_1_layer_dropout)(y)\n",
    "    y = Dense(units = autoencoder_2_layer_units, activation='relu')(y)\n",
    "    y = Dropout(autoencoder_1_layer_dropout)(y)\n",
    "    y2 = Concatenate()([y, x])\n",
    "    y = Activation('relu')(y2)\n",
    "    \n",
    "    y = Dense(units = layers['layer_1'], activation='relu', kernel_regularizer=regularizers.l2(regularization))(y)\n",
    "    y = Dropout(dropout)(y)\n",
    "    \n",
    "    if (layers['layer_2'] > 0):\n",
    "        y = Dense(units = layers['layer_2'], activation='relu', kernel_regularizer=regularizers.l2(regularization))(y)\n",
    "        y = Dropout(dropout)(y)\n",
    "    \n",
    "        if (layers['layer_3'] > 0):\n",
    "            y = Dense(units = layers['layer_3'], activation='relu', kernel_regularizer=regularizers.l2(regularization))(y)\n",
    "            y = Dropout(dropout)(y)\n",
    "            \n",
    "    y = Concatenate()([y, y2, x])\n",
    "    y = Activation('relu')(y)\n",
    "    \n",
    "    y = Dense(units = layers['layer_4'], activation='relu', kernel_regularizer=regularizers.l2(regularization))(y)\n",
    "    y = Dropout(dropout)(y)\n",
    "    \n",
    "    if (layers['layer_5'] > 0):\n",
    "        y = Dense(units = layers['layer_5'], activation='relu', kernel_regularizer=regularizers.l2(regularization))(y)\n",
    "#         y = Dropout(dropout)(y)\n",
    "    \n",
    "    y = Dense(units = y_train.shape[1], activation='softmax')(y)\n",
    "    model = Model(x, y)\n",
    "    \n",
    "    # Create directory\n",
    "    directory = model_directory + date + '/'\n",
    "    if not os.path.exists(directory):\n",
    "        os.makedirs(directory)\n",
    "    \n",
    "    # Write model hyper-parameters\n",
    "    df = pd.DataFrame({\n",
    "        'Layer 1': layers['layer_1'],\n",
    "        'Layer 2': layers['layer_2'],\n",
    "        'Layer 3': layers['layer_3'],\n",
    "        'Layer 4': layers['layer_4'],\n",
    "        'Layer 5': layers['layer_5'],\n",
    "        'Dropout all': dropout,\n",
    "        'Learning rate': learning_rate,\n",
    "        'Decay': decay,\n",
    "        'Batch size': batch_size,\n",
    "        'Autoencoder 1': autoencoder_1_path,\n",
    "        'Autoencoder 2': autoencoder_2_path,\n",
    "        'Epochs': epochs,\n",
    "        'Fine tune': True,\n",
    "        'Loss': loss,\n",
    "        'Test data size (percentage)': test_size,\n",
    "        'Regularization': regularization,\n",
    "        'Use data augmentation': True\n",
    "    }, index=[0])\n",
    "    df.to_csv(model_directory + date + '/params.csv')\n",
    "    \n",
    "    # Write model summary\n",
    "    file2 = open(directory + \"summary.txt\", \"a\")\n",
    "    model.summary(print_fn=lambda line: file2.write(line + '\\n'))\n",
    "    file2.close()\n",
    "\n",
    "    # Write model diagram\n",
    "    plot_model(model, to_file=directory + 'model.png', show_shapes=True, show_layer_names=True)\n",
    "    SVG(model_to_dot(model).create(prog='dot', format='svg'))\n",
    "    \n",
    "    # Compile the model\n",
    "    model.compile(optimizer=keras.optimizers.Adam(lr=learning_rate, decay=decay), loss=loss, metrics=['accuracy'])\n",
    "    \n",
    "    # Set layer weights to pre trained autoencoder weights\n",
    "    model.layers[1].set_weights(weights_1.get_layer(autoencoder_1_layer_name).get_weights())\n",
    "    model.layers[3].set_weights(weights_2.get_layer(autoencoder_2_layer_name).get_weights())\n",
    "    \n",
    "    return model"
   ]
  },
  {
   "cell_type": "markdown",
   "metadata": {},
   "source": [
    "# Prepare callbacks"
   ]
  },
  {
   "cell_type": "code",
   "execution_count": null,
   "metadata": {},
   "outputs": [],
   "source": [
    "class KerasClassifierTensorBoard(KerasClassifier):\n",
    "    def fit(self, x, y, **kwargs):\n",
    "        global date\n",
    "        date = datetime.now().strftime(\"%Y-%m-%d-%H-%M-%S\")\n",
    "        tensorboard_callback = keras.callbacks.TensorBoard(log_dir=tensorboard_directory + date + '/')\n",
    "        csv_logger = keras.callbacks.CSVLogger(model_directory + date + '/epochs.csv')\n",
    "        model_checkpoint = keras.callbacks.ModelCheckpoint(model_directory + date + '/weights.hdf5', save_best_only=False)\n",
    "        callbacks = [tensorboard_callback, csv_logger, model_checkpoint]\n",
    "        return super(KerasClassifierTensorBoard, self).fit(x, y, callbacks=callbacks, verbose=0, **kwargs)"
   ]
  },
  {
   "cell_type": "markdown",
   "metadata": {},
   "source": [
    "# Train"
   ]
  },
  {
   "cell_type": "code",
   "execution_count": null,
   "metadata": {
    "scrolled": true
   },
   "outputs": [
    {
     "name": "stdout",
     "output_type": "stream",
     "text": [
      "Fitting 1 folds for each of 1 candidates, totalling 1 fits\n",
      "[CV] regularization=0.004, test_size=10, dropout=0.5, layers={'layer_1': 128, 'layer_3': 0, 'layer_2': 0, 'layer_5': 0, 'layer_4': 256} \n"
     ]
    }
   ],
   "source": [
    "test_sizes = [10]\n",
    "for test_size in test_sizes:\n",
    "    model = None\n",
    "    model = KerasClassifierTensorBoard(build_fn=create_model, epochs=epochs, batch_size=batch_size)\n",
    "\n",
    "    layers = [\n",
    "        {'layer_1': 128, 'layer_2': 0, 'layer_3': 0, 'layer_4': 256, 'layer_5': 0}\n",
    "    ]\n",
    "    \n",
    "    param_grid = dict(\n",
    "        layers=layers,\n",
    "        dropout=[0.5],\n",
    "        test_size=[test_size],\n",
    "        regularization=[0.004]\n",
    "    )\n",
    "    \n",
    "    if (test_size == 50):\n",
    "        x_train_final = x_train\n",
    "        x_test_final = x_test\n",
    "        y_train_final = y_train\n",
    "        y_test_final = y_test\n",
    "    elif (test_size == 30):\n",
    "        x_train_final = x_train_30\n",
    "        x_test_final = x_test_30\n",
    "        y_train_final = y_train_30\n",
    "        y_test_final = y_test_30\n",
    "    elif (test_size == 10):\n",
    "        x_train_final = x_train_10\n",
    "        x_test_final = x_test_10\n",
    "        y_train_final = y_train_10\n",
    "        y_test_final = y_test_10\n",
    "    else:\n",
    "        x_train_final = x_train_20\n",
    "        x_test_final = x_test_20\n",
    "        y_train_final = y_train_20\n",
    "        y_test_final = y_test_20\n",
    "\n",
    "    grid = GridSearchCV(estimator = model, param_grid = param_grid, error_score=0, verbose=2, cv=[(slice(None), slice(None))], n_jobs=1, fit_params=dict(validation_data=(x_test_final, y_test_final)))\n",
    "    grid_result = grid.fit(x_train_final, y_train_final)"
   ]
  },
  {
   "cell_type": "code",
   "execution_count": null,
   "metadata": {},
   "outputs": [],
   "source": []
  }
 ],
 "metadata": {
  "kernelspec": {
   "display_name": "Python [conda env:tensorflow]",
   "language": "python",
   "name": "conda-env-tensorflow-py"
  },
  "language_info": {
   "codemirror_mode": {
    "name": "ipython",
    "version": 3
   },
   "file_extension": ".py",
   "mimetype": "text/x-python",
   "name": "python",
   "nbconvert_exporter": "python",
   "pygments_lexer": "ipython3",
   "version": "3.5.4"
  }
 },
 "nbformat": 4,
 "nbformat_minor": 2
}
